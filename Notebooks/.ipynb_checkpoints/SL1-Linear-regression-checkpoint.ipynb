{
 "cells": [
  {
   "cell_type": "markdown",
   "metadata": {},
   "source": [
    "# Data analysis of the imdb database\n",
    "\n",
    "The dataset can be obtained from https://www.kaggle.com/karrrimba/movie-metadatacsv\n",
    "\n",
    "We will use the pandas library for Python. Some tutorials can be found at https://pandas.pydata.org/pandas-docs/stable/getting_started/tutorials.html"
   ]
  },
  {
   "cell_type": "code",
   "execution_count": null,
   "metadata": {},
   "outputs": [],
   "source": [
    "%matplotlib inline\n",
    "\n",
    "import numpy as np\n",
    "import pandas as pd\n",
    "import matplotlib.pyplot as plt"
   ]
  },
  {
   "cell_type": "code",
   "execution_count": null,
   "metadata": {},
   "outputs": [],
   "source": [
    "# Reading csv data\n",
    "data = pd.read_csv(\"./Data/movie_metadata.csv\")"
   ]
  },
  {
   "cell_type": "code",
   "execution_count": null,
   "metadata": {},
   "outputs": [],
   "source": [
    "data.head()"
   ]
  },
  {
   "cell_type": "code",
   "execution_count": null,
   "metadata": {},
   "outputs": [],
   "source": [
    "# Rapid description of the data\n",
    "data.describe()"
   ]
  },
  {
   "cell_type": "code",
   "execution_count": null,
   "metadata": {},
   "outputs": [],
   "source": [
    "# Dropping data lines with NaN\n",
    "data.dropna(how='any',inplace=True)"
   ]
  },
  {
   "cell_type": "markdown",
   "metadata": {},
   "source": [
    "## Plotting data"
   ]
  },
  {
   "cell_type": "code",
   "execution_count": null,
   "metadata": {},
   "outputs": [],
   "source": [
    "data_sample = data[data.movie_facebook_likes > 0]\n",
    "data_sample.plot.scatter(\"movie_facebook_likes\",\"gross\")\n",
    "plt.show()"
   ]
  },
  {
   "cell_type": "markdown",
   "metadata": {},
   "source": [
    "### Question 1\n",
    "Plot different variables and see whether you can spot some correlations. "
   ]
  },
  {
   "cell_type": "code",
   "execution_count": null,
   "metadata": {},
   "outputs": [],
   "source": []
  },
  {
   "cell_type": "markdown",
   "metadata": {},
   "source": [
    "## Gradient descent algorithm\n",
    "\n",
    "We want to find a linear regression between x = log(budget) and y = log(gross).\n",
    "\n",
    "The linear regression consists in the hypothesis\n",
    "\n",
    "$h_\\theta (x) = \\theta_0 + \\theta_1 x$\n",
    "\n",
    "with the cost function\n",
    "\n",
    "$J(\\theta_0, \\theta_1) = \\frac{1}{2N}\n",
    "\\sum_{i=1}^N \\left( h_\\theta (x^{(i)}) - y^{(i)} \\right)^2$\n",
    "\n",
    "The iterative procedure of the gradient descent algorithm is then \n",
    "\n",
    "$\\theta_j := \\theta_j - \\alpha \\frac{\\partial}{\\partial \\theta_j} J(\\theta)$\n",
    "\n",
    "with $\\alpha$ the learning parameter and \n",
    "\n",
    "$\\frac{\\partial J}{\\partial \\theta_0} = \\frac{1}{N}\n",
    "\\sum_{i=1}^N \\left( h_\\theta (x^{(i)}) - y^{(i)} \\right)$\n",
    "\n",
    "$\\frac{\\partial J}{\\partial \\theta_1} = \\frac{1}{N}\n",
    "\\sum_{i=1}^N \\left( h_\\theta (x^{(i)}) - y^{(i)} \\right)x^{(i)}$"
   ]
  },
  {
   "cell_type": "code",
   "execution_count": null,
   "metadata": {},
   "outputs": [],
   "source": [
    "x = np.log(np.array(data[\"budget\"]))\n",
    "y = np.log(np.array(data[\"gross\"]))\n",
    "plt.plot(x,y,'.')\n",
    "plt.show()"
   ]
  },
  {
   "cell_type": "markdown",
   "metadata": {},
   "source": [
    "### Question 2\n",
    "- Complete the following code to implement a gradient descent algorithm\n",
    "- Check how the convergence varies with $\\alpha$ (a plot of J as a function of t may help)"
   ]
  },
  {
   "cell_type": "code",
   "execution_count": null,
   "metadata": {},
   "outputs": [],
   "source": [
    "T = 100  # number of steps\n",
    "alpha = 0.003  # learning parameter\n",
    "theta0 = 3.  # initial value\n",
    "theta1 = 1.  # initial value\n",
    "N = len(x)  \n",
    "\n",
    "#for t in range(T):\n",
    "#    for i in range(N):\n",
    "       "
   ]
  },
  {
   "cell_type": "markdown",
   "metadata": {},
   "source": [
    "### Plotting the result"
   ]
  },
  {
   "cell_type": "code",
   "execution_count": null,
   "metadata": {},
   "outputs": [],
   "source": [
    "plt.plot(x,y,'.')\n",
    "plt.plot(x,theta0 + theta1 * x)\n",
    "plt.show()"
   ]
  },
  {
   "cell_type": "markdown",
   "metadata": {},
   "source": [
    "### Question 3\n",
    "The gradient descent algorithm can be improved.\n",
    "- Implement the same gradient descent algorithm but with rescaled data\n",
    "- Implement the algorithm with stochastic gradient descent (at each time step a data is randomly picked and the parameters are updated with this single data, N=1)\n",
    "- Implement the algorithm with mini-batches (at each time step n<N data are randomly picked and the parameters are updated with this data)"
   ]
  },
  {
   "cell_type": "code",
   "execution_count": null,
   "metadata": {},
   "outputs": [],
   "source": [
    "x_rescaled = (x - np.mean(x)) / np.std(x)\n",
    "#..."
   ]
  },
  {
   "cell_type": "markdown",
   "metadata": {},
   "source": [
    "## Regression by direct method\n",
    "The parameters $\\theta_0$ and $\\theta_1$ can also be obtained by the direct method\n",
    "\n",
    "$\\theta_1 = {\\langle (x - \\langle x \\rangle) (y - \\langle y \\rangle)} \\,/\\, {\\langle(x - \\langle x \\rangle)^2\\rangle}$\n",
    "\n",
    "$\\theta_0 = \\langle y \\rangle - \\theta_1 \\langle x \\rangle$\n",
    "\n",
    "### Question 4\n",
    "Complete the code below to calculate $\\theta_0$ and $\\theta_1$ directly."
   ]
  },
  {
   "cell_type": "code",
   "execution_count": null,
   "metadata": {},
   "outputs": [],
   "source": [
    "x = data[\"budget\"].apply(np.log)\n",
    "xm = x.mean()\n",
    "#..."
   ]
  },
  {
   "cell_type": "markdown",
   "metadata": {},
   "source": [
    "### Question 5\n",
    "Compare the different methods graphically and discuss why the results may be different. "
   ]
  },
  {
   "cell_type": "code",
   "execution_count": null,
   "metadata": {},
   "outputs": [],
   "source": []
  }
 ],
 "metadata": {
  "kernelspec": {
   "display_name": "Python 3",
   "language": "python",
   "name": "python3"
  },
  "language_info": {
   "codemirror_mode": {
    "name": "ipython",
    "version": 3
   },
   "file_extension": ".py",
   "mimetype": "text/x-python",
   "name": "python",
   "nbconvert_exporter": "python",
   "pygments_lexer": "ipython3",
   "version": "3.7.9"
  }
 },
 "nbformat": 4,
 "nbformat_minor": 4
}
